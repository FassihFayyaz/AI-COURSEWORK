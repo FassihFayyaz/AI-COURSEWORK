{
 "metadata": {
  "language_info": {
   "codemirror_mode": {
    "name": "ipython",
    "version": 3
   },
   "file_extension": ".py",
   "mimetype": "text/x-python",
   "name": "python",
   "nbconvert_exporter": "python",
   "pygments_lexer": "ipython3",
   "version": "3.8.6-final"
  },
  "orig_nbformat": 2,
  "kernelspec": {
   "name": "python3",
   "display_name": "Python 3.8.6 64-bit",
   "metadata": {
    "interpreter": {
     "hash": "004de6046f1b3d314f33fdb43a2dc798b2646e5600efd8df5066c8b63a00ff6d"
    }
   }
  }
 },
 "nbformat": 4,
 "nbformat_minor": 2,
 "cells": [
  {
   "cell_type": "code",
   "execution_count": 1,
   "metadata": {},
   "outputs": [],
   "source": [
    "import pandas as pd\n",
    "import numpy as np\n",
    "import cv2 as cv\n",
    "import face_recognition as fg"
   ]
  },
  {
   "cell_type": "code",
   "execution_count": 3,
   "metadata": {},
   "outputs": [],
   "source": [
    "bill = fg.load_image_file(\"Images/bill1.jpg\")\n",
    "bill = cv.cvtColor(bill,cv.COLOR_BGR2RGB)\n",
    "billTEST = fg.load_image_file(\"Images/bill2.jpg\")\n",
    "billTEST = cv.cvtColor(billTEST,cv.COLOR_BGR2RGB)"
   ]
  },
  {
   "cell_type": "code",
   "execution_count": 4,
   "metadata": {},
   "outputs": [
    {
     "output_type": "execute_result",
     "data": {
      "text/plain": [
       "array([[[162, 163, 167],\n",
       "        [162, 163, 167],\n",
       "        [162, 163, 167],\n",
       "        ...,\n",
       "        [ 60,  64,  59],\n",
       "        [ 61,  65,  60],\n",
       "        [ 61,  65,  60]],\n",
       "\n",
       "       [[162, 163, 167],\n",
       "        [162, 163, 167],\n",
       "        [162, 163, 167],\n",
       "        ...,\n",
       "        [ 60,  64,  59],\n",
       "        [ 61,  65,  60],\n",
       "        [ 62,  66,  61]],\n",
       "\n",
       "       [[162, 163, 167],\n",
       "        [162, 163, 167],\n",
       "        [162, 163, 167],\n",
       "        ...,\n",
       "        [ 63,  65,  59],\n",
       "        [ 64,  66,  60],\n",
       "        [ 65,  67,  61]],\n",
       "\n",
       "       ...,\n",
       "\n",
       "       [[184, 184, 184],\n",
       "        [184, 184, 184],\n",
       "        [184, 184, 184],\n",
       "        ...,\n",
       "        [184, 162, 144],\n",
       "        [185, 163, 145],\n",
       "        [186, 164, 146]],\n",
       "\n",
       "       [[184, 184, 184],\n",
       "        [184, 184, 184],\n",
       "        [184, 184, 184],\n",
       "        ...,\n",
       "        [183, 161, 143],\n",
       "        [184, 162, 144],\n",
       "        [188, 166, 148]],\n",
       "\n",
       "       [[184, 184, 184],\n",
       "        [184, 184, 184],\n",
       "        [184, 184, 184],\n",
       "        ...,\n",
       "        [178, 156, 138],\n",
       "        [179, 157, 139],\n",
       "        [184, 162, 144]]], dtype=uint8)"
      ]
     },
     "metadata": {},
     "execution_count": 4
    }
   ],
   "source": [
    "faceLoc = fg.face_locations(bill)[0]\n",
    "encodedBill = fg.face_encodings(bill)[0]\n",
    "cv.rectangle(bill,(faceLoc[3],faceLoc[0]),(faceLoc[1],faceLoc[2]),(255,0,0),2)\n",
    "faceLocTEST = fg.face_locations(billTEST)[0]\n",
    "encodedBillTEST = fg.face_encodings(billTEST)[0]\n",
    "cv.rectangle(billTEST,(faceLocTEST[3],faceLocTEST[0]),(faceLocTEST[1],faceLocTEST[2]),(255,0,0),2)"
   ]
  },
  {
   "cell_type": "code",
   "execution_count": 5,
   "metadata": {},
   "outputs": [
    {
     "output_type": "stream",
     "name": "stdout",
     "text": [
      "[True] [0.33385961]\n"
     ]
    }
   ],
   "source": [
    "result = fg.compare_faces([encodedBill],encodedBillTEST)\n",
    "faceDistances = fg.face_distance([encodedBill],encodedBillTEST)\n",
    "cv.putText(billTEST,f'{result}{round(faceDistances[0],2)}',(50,50),cv.FONT_HERSHEY_SIMPLEX,1,(0,0,255),2)\n",
    "\n",
    "print(result,faceDistances)\n",
    "#print(faceLoc)"
   ]
  },
  {
   "cell_type": "code",
   "execution_count": 6,
   "metadata": {},
   "outputs": [
    {
     "output_type": "execute_result",
     "data": {
      "text/plain": [
       "-1"
      ]
     },
     "metadata": {},
     "execution_count": 6
    }
   ],
   "source": [
    "cv.imshow(\"Bill Train\",bill)\n",
    "cv.imshow(\"Bill Test\",billTEST)\n",
    "cv.waitKey(0)"
   ]
  },
  {
   "cell_type": "code",
   "execution_count": null,
   "metadata": {},
   "outputs": [],
   "source": []
  }
 ]
}