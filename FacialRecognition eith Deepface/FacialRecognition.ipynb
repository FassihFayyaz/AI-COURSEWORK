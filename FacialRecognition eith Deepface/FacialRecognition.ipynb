{
 "cells": [
  {
   "cell_type": "markdown",
   "metadata": {},
   "source": [
    "# Facial Recognition using DeepFace Pypi"
   ]
  },
  {
   "cell_type": "code",
   "execution_count": 1,
   "metadata": {},
   "outputs": [
    {
     "name": "stdout",
     "output_type": "stream",
     "text": [
      "Requirement already satisfied: deepface in c:\\users\\fassihfayyaz\\appdata\\local\\programs\\python\\python38\\lib\\site-packages (0.0.49)\n",
      "Requirement already satisfied: Pillow>=5.2.0 in c:\\users\\fassihfayyaz\\appdata\\local\\programs\\python\\python38\\lib\\site-packages (from deepface) (8.1.0)\n",
      "Requirement already satisfied: tqdm>=4.30.0 in c:\\users\\fassihfayyaz\\appdata\\local\\programs\\python\\python38\\lib\\site-packages (from deepface) (4.56.0)\n",
      "Requirement already satisfied: opencv-python>=3.4.4 in c:\\users\\fassihfayyaz\\appdata\\local\\programs\\python\\python38\\lib\\site-packages (from deepface) (4.5.1.48)Note: you may need to restart the kernel to use updated packages.\n",
      "\n",
      "Requirement already satisfied: numpy>=1.14.0 in c:\\users\\fassihfayyaz\\appdata\\local\\programs\\python\\python38\\lib\\site-packages (from deepface) (1.19.5)\n",
      "Requirement already satisfied: Flask>=1.1.2 in c:\\users\\fassihfayyaz\\appdata\\local\\programs\\python\\python38\\lib\\site-packages (from deepface) (1.1.2)\n",
      "Requirement already satisfied: gdown>=3.10.1 in c:\\users\\fassihfayyaz\\appdata\\local\\programs\\python\\python38\\lib\\site-packages (from deepface) (3.12.2)\n",
      "Requirement already satisfied: keras>=2.2.0 in c:\\users\\fassihfayyaz\\appdata\\local\\programs\\python\\python38\\lib\\site-packages (from deepface) (2.4.3)\n",
      "Requirement already satisfied: pandas>=0.23.4 in c:\\users\\fassihfayyaz\\appdata\\local\\programs\\python\\python38\\lib\\site-packages (from deepface) (1.2.1)\n",
      "Requirement already satisfied: mtcnn>=0.1.0 in c:\\users\\fassihfayyaz\\appdata\\local\\programs\\python\\python38\\lib\\site-packages (from deepface) (0.1.0)\n",
      "Requirement already satisfied: tensorflow>=1.9.0 in c:\\users\\fassihfayyaz\\appdata\\local\\programs\\python\\python38\\lib\\site-packages (from deepface) (2.4.1)\n",
      "Requirement already satisfied: Jinja2>=2.10.1 in c:\\users\\fassihfayyaz\\appdata\\local\\programs\\python\\python38\\lib\\site-packages (from Flask>=1.1.2->deepface) (2.11.2)\n",
      "Requirement already satisfied: click>=5.1 in c:\\users\\fassihfayyaz\\appdata\\local\\programs\\python\\python38\\lib\\site-packages (from Flask>=1.1.2->deepface) (7.1.2)\n",
      "Requirement already satisfied: Werkzeug>=0.15 in c:\\users\\fassihfayyaz\\appdata\\local\\programs\\python\\python38\\lib\\site-packages (from Flask>=1.1.2->deepface) (1.0.1)\n",
      "Requirement already satisfied: itsdangerous>=0.24 in c:\\users\\fassihfayyaz\\appdata\\local\\programs\\python\\python38\\lib\\site-packages (from Flask>=1.1.2->deepface) (1.1.0)\n",
      "Requirement already satisfied: filelock in c:\\users\\fassihfayyaz\\appdata\\local\\programs\\python\\python38\\lib\\site-packages (from gdown>=3.10.1->deepface) (3.0.12)\n",
      "Requirement already satisfied: requests[socks] in c:\\users\\fassihfayyaz\\appdata\\local\\programs\\python\\python38\\lib\\site-packages (from gdown>=3.10.1->deepface) (2.25.1)\n",
      "Requirement already satisfied: six in c:\\users\\fassihfayyaz\\appdata\\local\\programs\\python\\python38\\lib\\site-packages (from gdown>=3.10.1->deepface) (1.15.0)\n",
      "Requirement already satisfied: MarkupSafe>=0.23 in c:\\users\\fassihfayyaz\\appdata\\local\\programs\\python\\python38\\lib\\site-packages (from Jinja2>=2.10.1->Flask>=1.1.2->deepface) (1.1.1)\n",
      "Requirement already satisfied: scipy>=0.14 in c:\\users\\fassihfayyaz\\appdata\\local\\programs\\python\\python38\\lib\\site-packages (from keras>=2.2.0->deepface) (1.6.0)\n",
      "Requirement already satisfied: pyyaml in c:\\users\\fassihfayyaz\\appdata\\local\\programs\\python\\python38\\lib\\site-packages (from keras>=2.2.0->deepface) (5.4.1)\n",
      "Requirement already satisfied: h5py in c:\\users\\fassihfayyaz\\appdata\\local\\programs\\python\\python38\\lib\\site-packages (from keras>=2.2.0->deepface) (2.10.0)\n",
      "Requirement already satisfied: pytz>=2017.3 in c:\\users\\fassihfayyaz\\appdata\\local\\programs\\python\\python38\\lib\\site-packages (from pandas>=0.23.4->deepface) (2020.5)\n",
      "Requirement already satisfied: python-dateutil>=2.7.3 in c:\\users\\fassihfayyaz\\appdata\\local\\programs\\python\\python38\\lib\\site-packages (from pandas>=0.23.4->deepface) (2.8.1)\n",
      "Requirement already satisfied: absl-py~=0.10 in c:\\users\\fassihfayyaz\\appdata\\local\\programs\\python\\python38\\lib\\site-packages (from tensorflow>=1.9.0->deepface) (0.11.0)\n",
      "Requirement already satisfied: gast==0.3.3 in c:\\users\\fassihfayyaz\\appdata\\local\\programs\\python\\python38\\lib\\site-packages (from tensorflow>=1.9.0->deepface) (0.3.3)\n",
      "Requirement already satisfied: termcolor~=1.1.0 in c:\\users\\fassihfayyaz\\appdata\\local\\programs\\python\\python38\\lib\\site-packages (from tensorflow>=1.9.0->deepface) (1.1.0)\n",
      "Requirement already satisfied: wrapt~=1.12.1 in c:\\users\\fassihfayyaz\\appdata\\local\\programs\\python\\python38\\lib\\site-packages (from tensorflow>=1.9.0->deepface) (1.12.1)\n",
      "Requirement already satisfied: grpcio~=1.32.0 in c:\\users\\fassihfayyaz\\appdata\\local\\programs\\python\\python38\\lib\\site-packages (from tensorflow>=1.9.0->deepface) (1.32.0)\n",
      "Requirement already satisfied: opt-einsum~=3.3.0 in c:\\users\\fassihfayyaz\\appdata\\local\\programs\\python\\python38\\lib\\site-packages (from tensorflow>=1.9.0->deepface) (3.3.0)\n",
      "Requirement already satisfied: astunparse~=1.6.3 in c:\\users\\fassihfayyaz\\appdata\\local\\programs\\python\\python38\\lib\\site-packages (from tensorflow>=1.9.0->deepface) (1.6.3)\n",
      "Requirement already satisfied: flatbuffers~=1.12.0 in c:\\users\\fassihfayyaz\\appdata\\local\\programs\\python\\python38\\lib\\site-packages (from tensorflow>=1.9.0->deepface) (1.12)\n",
      "Requirement already satisfied: google-pasta~=0.2 in c:\\users\\fassihfayyaz\\appdata\\local\\programs\\python\\python38\\lib\\site-packages (from tensorflow>=1.9.0->deepface) (0.2.0)\n",
      "Requirement already satisfied: protobuf>=3.9.2 in c:\\users\\fassihfayyaz\\appdata\\local\\programs\\python\\python38\\lib\\site-packages (from tensorflow>=1.9.0->deepface) (3.14.0)\n",
      "Requirement already satisfied: typing-extensions~=3.7.4 in c:\\users\\fassihfayyaz\\appdata\\local\\programs\\python\\python38\\lib\\site-packages (from tensorflow>=1.9.0->deepface) (3.7.4.3)\n",
      "Requirement already satisfied: tensorboard~=2.4 in c:\\users\\fassihfayyaz\\appdata\\local\\programs\\python\\python38\\lib\\site-packages (from tensorflow>=1.9.0->deepface) (2.4.1)\n",
      "Requirement already satisfied: tensorflow-estimator<2.5.0,>=2.4.0 in c:\\users\\fassihfayyaz\\appdata\\local\\programs\\python\\python38\\lib\\site-packages (from tensorflow>=1.9.0->deepface) (2.4.0)\n",
      "Requirement already satisfied: wheel~=0.35 in c:\\users\\fassihfayyaz\\appdata\\local\\programs\\python\\python38\\lib\\site-packages (from tensorflow>=1.9.0->deepface) (0.36.2)\n",
      "Requirement already satisfied: keras-preprocessing~=1.1.2 in c:\\users\\fassihfayyaz\\appdata\\local\\programs\\python\\python38\\lib\\site-packages (from tensorflow>=1.9.0->deepface) (1.1.2)\n",
      "Requirement already satisfied: setuptools>=41.0.0 in c:\\users\\fassihfayyaz\\appdata\\local\\programs\\python\\python38\\lib\\site-packages (from tensorboard~=2.4->tensorflow>=1.9.0->deepface) (49.2.1)\n",
      "Requirement already satisfied: tensorboard-plugin-wit>=1.6.0 in c:\\users\\fassihfayyaz\\appdata\\local\\programs\\python\\python38\\lib\\site-packages (from tensorboard~=2.4->tensorflow>=1.9.0->deepface) (1.8.0)\n",
      "Requirement already satisfied: markdown>=2.6.8 in c:\\users\\fassihfayyaz\\appdata\\local\\programs\\python\\python38\\lib\\site-packages (from tensorboard~=2.4->tensorflow>=1.9.0->deepface) (3.3.3)\n",
      "Requirement already satisfied: google-auth-oauthlib<0.5,>=0.4.1 in c:\\users\\fassihfayyaz\\appdata\\local\\programs\\python\\python38\\lib\\site-packages (from tensorboard~=2.4->tensorflow>=1.9.0->deepface) (0.4.2)\n",
      "Requirement already satisfied: google-auth<2,>=1.6.3 in c:\\users\\fassihfayyaz\\appdata\\local\\programs\\python\\python38\\lib\\site-packages (from tensorboard~=2.4->tensorflow>=1.9.0->deepface) (1.24.0)\n",
      "Requirement already satisfied: pyasn1-modules>=0.2.1 in c:\\users\\fassihfayyaz\\appdata\\local\\programs\\python\\python38\\lib\\site-packages (from google-auth<2,>=1.6.3->tensorboard~=2.4->tensorflow>=1.9.0->deepface) (0.2.8)\n",
      "Requirement already satisfied: cachetools<5.0,>=2.0.0 in c:\\users\\fassihfayyaz\\appdata\\local\\programs\\python\\python38\\lib\\site-packages (from google-auth<2,>=1.6.3->tensorboard~=2.4->tensorflow>=1.9.0->deepface) (4.2.1)\n",
      "Requirement already satisfied: rsa<5,>=3.1.4 in c:\\users\\fassihfayyaz\\appdata\\local\\programs\\python\\python38\\lib\\site-packages (from google-auth<2,>=1.6.3->tensorboard~=2.4->tensorflow>=1.9.0->deepface) (4.7)\n",
      "Requirement already satisfied: requests-oauthlib>=0.7.0 in c:\\users\\fassihfayyaz\\appdata\\local\\programs\\python\\python38\\lib\\site-packages (from google-auth-oauthlib<0.5,>=0.4.1->tensorboard~=2.4->tensorflow>=1.9.0->deepface) (1.3.0)\n",
      "Requirement already satisfied: pyasn1<0.5.0,>=0.4.6 in c:\\users\\fassihfayyaz\\appdata\\local\\programs\\python\\python38\\lib\\site-packages (from pyasn1-modules>=0.2.1->google-auth<2,>=1.6.3->tensorboard~=2.4->tensorflow>=1.9.0->deepface) (0.4.8)\n",
      "Requirement already satisfied: idna<3,>=2.5 in c:\\users\\fassihfayyaz\\appdata\\local\\programs\\python\\python38\\lib\\site-packages (from requests[socks]->gdown>=3.10.1->deepface) (2.10)\n",
      "Requirement already satisfied: certifi>=2017.4.17 in c:\\users\\fassihfayyaz\\appdata\\local\\programs\\python\\python38\\lib\\site-packages (from requests[socks]->gdown>=3.10.1->deepface) (2020.12.5)\n",
      "Requirement already satisfied: urllib3<1.27,>=1.21.1 in c:\\users\\fassihfayyaz\\appdata\\local\\programs\\python\\python38\\lib\\site-packages (from requests[socks]->gdown>=3.10.1->deepface) (1.26.3)\n",
      "Requirement already satisfied: chardet<5,>=3.0.2 in c:\\users\\fassihfayyaz\\appdata\\local\\programs\\python\\python38\\lib\\site-packages (from requests[socks]->gdown>=3.10.1->deepface) (4.0.0)\n",
      "Requirement already satisfied: oauthlib>=3.0.0 in c:\\users\\fassihfayyaz\\appdata\\local\\programs\\python\\python38\\lib\\site-packages (from requests-oauthlib>=0.7.0->google-auth-oauthlib<0.5,>=0.4.1->tensorboard~=2.4->tensorflow>=1.9.0->deepface) (3.1.0)\n",
      "Requirement already satisfied: PySocks!=1.5.7,>=1.5.6 in c:\\users\\fassihfayyaz\\appdata\\local\\programs\\python\\python38\\lib\\site-packages (from requests[socks]->gdown>=3.10.1->deepface) (1.7.1)\n"
     ]
    }
   ],
   "source": [
    "pip install deepface"
   ]
  },
  {
   "cell_type": "markdown",
   "metadata": {},
   "source": [
    "# Import Basic Libraries"
   ]
  },
  {
   "cell_type": "code",
   "execution_count": 2,
   "metadata": {},
   "outputs": [],
   "source": [
    "from deepface import DeepFace\n",
    "import matplotlib.pyplot as plt\n",
    "import cv2 as cv\n",
    "import os"
   ]
  },
  {
   "cell_type": "markdown",
   "metadata": {},
   "source": [
    "# Read Predictive Image"
   ]
  },
  {
   "cell_type": "code",
   "execution_count": 3,
   "metadata": {},
   "outputs": [
    {
     "name": "stdout",
     "output_type": "stream",
     "text": [
      "Please enter the image number from 1 to 64= 15\n"
     ]
    }
   ],
   "source": [
    "prefix = 'dataset/img'\n",
    "length = len(os.listdir(\"dataset\"))\n",
    "image_type = \".jpg\"\n",
    "image_path = prefix+input(\"Please enter the image number from 1 to \"+str(length)+ \"= \")+image_type"
   ]
  },
  {
   "cell_type": "code",
   "execution_count": 4,
   "metadata": {},
   "outputs": [
    {
     "name": "stdout",
     "output_type": "stream",
     "text": [
      "dataset/img15.jpg\n"
     ]
    }
   ],
   "source": [
    "print(image_path)"
   ]
  },
  {
   "cell_type": "code",
   "execution_count": 5,
   "metadata": {},
   "outputs": [],
   "source": [
    "img = cv.imread(image_path)"
   ]
  },
  {
   "cell_type": "markdown",
   "metadata": {},
   "source": [
    "# Print Image Property"
   ]
  },
  {
   "cell_type": "code",
   "execution_count": 6,
   "metadata": {},
   "outputs": [
    {
     "name": "stdout",
     "output_type": "stream",
     "text": [
      "type of image is=  <class 'numpy.ndarray'>\n",
      "Image matrices are:\n",
      "\n",
      "[[[255 255 255]\n",
      "  [255 255 255]\n",
      "  [255 255 255]\n",
      "  ...\n",
      "  [255 255 255]\n",
      "  [255 255 255]\n",
      "  [255 255 255]]\n",
      "\n",
      " [[255 255 255]\n",
      "  [255 255 255]\n",
      "  [255 255 255]\n",
      "  ...\n",
      "  [255 255 255]\n",
      "  [255 255 255]\n",
      "  [255 255 255]]\n",
      "\n",
      " [[255 255 255]\n",
      "  [255 255 255]\n",
      "  [255 255 255]\n",
      "  ...\n",
      "  [255 255 255]\n",
      "  [255 255 255]\n",
      "  [255 255 255]]\n",
      "\n",
      " ...\n",
      "\n",
      " [[255 255 255]\n",
      "  [255 255 255]\n",
      "  [255 255 255]\n",
      "  ...\n",
      "  [255 255 255]\n",
      "  [255 255 255]\n",
      "  [255 255 255]]\n",
      "\n",
      " [[255 255 255]\n",
      "  [255 255 255]\n",
      "  [255 255 255]\n",
      "  ...\n",
      "  [255 255 255]\n",
      "  [255 255 255]\n",
      "  [255 255 255]]\n",
      "\n",
      " [[255 255 255]\n",
      "  [255 255 255]\n",
      "  [255 255 255]\n",
      "  ...\n",
      "  [255 255 255]\n",
      "  [255 255 255]\n",
      "  [255 255 255]]]\n"
     ]
    }
   ],
   "source": [
    "print(\"type of image is= \", type(img))\n",
    "print(\"Image matrices are:\\n\")\n",
    "print(img)"
   ]
  },
  {
   "cell_type": "markdown",
   "metadata": {},
   "source": [
    "# Model Prediction"
   ]
  },
  {
   "cell_type": "code",
   "execution_count": 8,
   "metadata": {},
   "outputs": [
    {
     "name": "stderr",
     "output_type": "stream",
     "text": [
      "\n",
      "Finding actions:   0%|                                                                           | 0/4 [00:00<?, ?it/s]\u001b[A\n",
      "Action: emotion:   0%|                                                                           | 0/4 [00:00<?, ?it/s]\u001b[A\n",
      "Action: emotion:  25%|████████████████▊                                                  | 1/4 [00:09<00:28,  9.36s/it]\u001b[A\n",
      "Action: age:  25%|█████████████████▊                                                     | 1/4 [00:09<00:28,  9.36s/it]\u001b[A\n",
      "Action: age:  50%|███████████████████████████████████▌                                   | 2/4 [00:12<00:10,  5.44s/it]\u001b[A\n",
      "Action: gender:  50%|██████████████████████████████████                                  | 2/4 [00:12<00:10,  5.44s/it]\u001b[A\n",
      "Action: gender:  75%|███████████████████████████████████████████████████                 | 3/4 [00:12<00:03,  3.23s/it]\u001b[A\n",
      "Action: race:  75%|████████████████████████████████████████████████████▌                 | 3/4 [00:12<00:03,  3.23s/it]\u001b[A\n",
      "Action: race: 100%|██████████████████████████████████████████████████████████████████████| 4/4 [00:13<00:00,  3.32s/it]\u001b[A\n"
     ]
    }
   ],
   "source": [
    "result = DeepFace.analyze(img)"
   ]
  },
  {
   "cell_type": "markdown",
   "metadata": {},
   "source": [
    "# Visualization"
   ]
  },
  {
   "cell_type": "code",
   "execution_count": 9,
   "metadata": {},
   "outputs": [
    {
     "data": {
      "text/plain": [
       "Text(0.5, 1.0, 'Hello Man')"
      ]
     },
     "execution_count": 9,
     "metadata": {},
     "output_type": "execute_result"
    },
    {
     "data": {
      "image/png": "[encoded data removed]",
      "text/plain": [
       "<Figure size 432x288 with 1 Axes>"
      ]
     },
     "metadata": {},
     "output_type": "display_data"
    }
   ],
   "source": [
    "plt.imshow(img[:,:,::-1]) #BRG -> RGB\n",
    "plt.xticks(())\n",
    "plt.yticks(())\n",
    "plt.title(\"Hello \"+result['gender'])"
   ]
  },
  {
   "cell_type": "markdown",
   "metadata": {},
   "source": [
    "# Image Analysis"
   ]
  },
  {
   "cell_type": "code",
   "execution_count": null,
   "metadata": {},
   "outputs": [
    {
     "name": "stdout",
     "output_type": "stream",
     "text": [
      "Enter 1 for emotion prediction!\n",
      "Enter 2 for age prediction!\n",
      "Enter 3 for gender prediction!\n",
      "Enter 4 for race prediction!\n",
      "Enter 0 to exit!\n",
      "Kindly enter your choice= 1\n",
      "\n",
      "Emotions:\n",
      "Angry:  3.3262167920178356e-26\n",
      "Disgust:  0.0\n",
      "Fear:  3.219851956753805e-24\n",
      "Happy:  99.99760389328003\n",
      "Sad:  3.24606385959913e-21\n",
      "Surprise:  2.2256131619868011e-13\n",
      "Neutral:  0.0023951655748533085\n",
      "\n",
      "Kindly enter your choice= 2\n",
      "\n",
      "Age:  24\n",
      "\n",
      "Kindly enter your choice= 4\n",
      "Race:\n",
      "Asian:  1.6659323920364955e-08\n",
      "Indian:  9.769196736286734e-10\n",
      "Black:  1.9650372400494085e-13\n",
      "White:  99.99244213104248\n",
      "Middle Eastern:  0.0018712773453444242\n",
      "Latino Hispanic:  0.005687679004040547\n",
      "\n"
     ]
    }
   ],
   "source": [
    "from sklearn import preprocessing as p\n",
    "\n",
    "print(\"Enter 1 for emotion prediction!\")\n",
    "print(\"Enter 2 for age prediction!\")\n",
    "print(\"Enter 3 for gender prediction!\")\n",
    "print(\"Enter 4 for race prediction!\")\n",
    "print(\"Enter 0 to exit!\")\n",
    "\n",
    "loop = 1\n",
    "\n",
    "while loop !=0:\n",
    "    option = int(input(\"Kindly enter your choice= \"))\n",
    "    if option==0:\n",
    "        loop=0\n",
    "    elif option==1:\n",
    "        print('\\nEmotions:')\n",
    "        print(\"Angry: \",result['emotion']['angry'])\n",
    "        print(\"Disgust: \",result['emotion']['disgust'])\n",
    "        print(\"Fear: \",result['emotion']['fear'])\n",
    "        print(\"Happy: \",result['emotion']['happy'])\n",
    "        print(\"Sad: \",result['emotion']['sad'])\n",
    "        print(\"Surprise: \",result['emotion']['surprise'])\n",
    "        print(\"Neutral: \",result['emotion']['neutral'])\n",
    "        print()\n",
    "    elif option==2:\n",
    "        print('\\nAge: ',result['age'])\n",
    "        print()\n",
    "    elif option==3:\n",
    "        print('\\nGender: ',result['gender'])\n",
    "        print()\n",
    "    else:\n",
    "        print('Race:')\n",
    "        print(\"Asian: \",result['race']['asian'])\n",
    "        print(\"Indian: \",result['race']['indian'])\n",
    "        print(\"Black: \",result['race']['black'])\n",
    "        print(\"White: \",result['race']['white'])\n",
    "        print(\"Middle Eastern: \",result['race']['middle eastern'])\n",
    "        print(\"Latino Hispanic: \",result['race']['latino hispanic'])\n",
    "        print()"
   ]
  },
  {
   "cell_type": "code",
   "execution_count": null,
   "metadata": {},
   "outputs": [],
   "source": []
  }
 ],
 "metadata": {
  "kernelspec": {
   "display_name": "Python 3",
   "language": "python",
   "name": "python3"
  },
  "language_info": {
   "codemirror_mode": {
    "name": "ipython",
    "version": 3
   },
   "file_extension": ".py",
   "mimetype": "text/x-python",
   "name": "python",
   "nbconvert_exporter": "python",
   "pygments_lexer": "ipython3",
   "version": "3.8.6"
  }
 },
 "nbformat": 4,
 "nbformat_minor": 2
}
